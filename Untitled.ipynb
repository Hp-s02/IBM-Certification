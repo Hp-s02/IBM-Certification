{
 "cells": [
  {
   "cell_type": "markdown",
   "id": "9a7ce8b7-ea6b-48b7-9290-1a7394fd6d30",
   "metadata": {},
   "source": [
    "# My Jupyter Notebook on IBM Watson Studio"
   ]
  },
  {
   "cell_type": "markdown",
   "id": "b2f1781f-0ee9-437d-a401-5e286ebd27a6",
   "metadata": {},
   "source": [
    "**Hema Prakash S**\n",
    "\n",
    "I am a student now, Interested in starting my career on Data Science."
   ]
  },
  {
   "cell_type": "markdown",
   "id": "2cee2697-eff5-4480-931e-6bca616cfdd1",
   "metadata": {},
   "source": [
    "*My interest in Data Science came from my interests in Mathematics and Computer Science. Data Science is one of the fields that combines both Mathematics and Computer Science.*"
   ]
  },
  {
   "cell_type": "markdown",
   "id": "d3a24240-70a0-4751-b330-f3f4c6b847d8",
   "metadata": {},
   "source": [
    "### The following code returns the Factorial of a number"
   ]
  },
  {
   "cell_type": "code",
   "execution_count": 1,
   "id": "eaa0125b-b775-4e55-873d-f06eb8d96d79",
   "metadata": {},
   "outputs": [
    {
     "data": {
      "text/plain": [
       "120"
      ]
     },
     "execution_count": 1,
     "metadata": {},
     "output_type": "execute_result"
    }
   ],
   "source": [
    "def fact(n):\n",
    "    if n==0:\n",
    "        return 1\n",
    "    else:\n",
    "        return n*fact(n-1)\n",
    "\n",
    "fact(5)"
   ]
  },
  {
   "cell_type": "markdown",
   "id": "3e6d23c5-95bd-4378-9935-c13396c84ac0",
   "metadata": {},
   "source": [
    " ***\n",
    " \n",
    " - Python\n",
    " - R\n",
    " - SQL\n",
    " \n",
    " 1. Data\n",
    " 2. Science\n",
    " 3. Certification"
   ]
  },
  {
   "cell_type": "code",
   "execution_count": null,
   "id": "ef9eec24-b337-4d6d-88f2-1f4332a945a9",
   "metadata": {},
   "outputs": [],
   "source": []
  }
 ],
 "metadata": {
  "kernelspec": {
   "display_name": "Python",
   "language": "python",
   "name": "conda-env-python-py"
  },
  "language_info": {
   "codemirror_mode": {
    "name": "ipython",
    "version": 3
   },
   "file_extension": ".py",
   "mimetype": "text/x-python",
   "name": "python",
   "nbconvert_exporter": "python",
   "pygments_lexer": "ipython3",
   "version": "3.7.12"
  }
 },
 "nbformat": 4,
 "nbformat_minor": 5
}
